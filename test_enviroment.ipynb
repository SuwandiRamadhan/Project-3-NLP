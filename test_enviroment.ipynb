{
 "cells": [
  {
   "cell_type": "code",
   "execution_count": 2,
   "id": "ea6a7f04",
   "metadata": {},
   "outputs": [
    {
     "name": "stdout",
     "output_type": "stream",
     "text": [
      "Collecting accelerate\n",
      "  Using cached accelerate-1.8.1-py3-none-any.whl.metadata (19 kB)\n",
      "Requirement already satisfied: numpy<3.0.0,>=1.17 in c:\\0. bootcamp ai\\repository\\bootcamp-ai\\project 3\\project 3\\.venv\\lib\\site-packages (from accelerate) (2.2.6)\n",
      "Requirement already satisfied: packaging>=20.0 in c:\\0. bootcamp ai\\repository\\bootcamp-ai\\project 3\\project 3\\.venv\\lib\\site-packages (from accelerate) (25.0)\n",
      "Requirement already satisfied: psutil in c:\\0. bootcamp ai\\repository\\bootcamp-ai\\project 3\\project 3\\.venv\\lib\\site-packages (from accelerate) (7.0.0)\n",
      "Requirement already satisfied: pyyaml in c:\\0. bootcamp ai\\repository\\bootcamp-ai\\project 3\\project 3\\.venv\\lib\\site-packages (from accelerate) (6.0.2)\n",
      "Requirement already satisfied: torch>=2.0.0 in c:\\0. bootcamp ai\\repository\\bootcamp-ai\\project 3\\project 3\\.venv\\lib\\site-packages (from accelerate) (2.3.1)\n",
      "Requirement already satisfied: huggingface_hub>=0.21.0 in c:\\0. bootcamp ai\\repository\\bootcamp-ai\\project 3\\project 3\\.venv\\lib\\site-packages (from accelerate) (0.33.2)\n",
      "Requirement already satisfied: safetensors>=0.4.3 in c:\\0. bootcamp ai\\repository\\bootcamp-ai\\project 3\\project 3\\.venv\\lib\\site-packages (from accelerate) (0.5.3)\n",
      "Requirement already satisfied: filelock in c:\\0. bootcamp ai\\repository\\bootcamp-ai\\project 3\\project 3\\.venv\\lib\\site-packages (from huggingface_hub>=0.21.0->accelerate) (3.18.0)\n",
      "Requirement already satisfied: fsspec>=2023.5.0 in c:\\0. bootcamp ai\\repository\\bootcamp-ai\\project 3\\project 3\\.venv\\lib\\site-packages (from huggingface_hub>=0.21.0->accelerate) (2024.3.1)\n",
      "Requirement already satisfied: requests in c:\\0. bootcamp ai\\repository\\bootcamp-ai\\project 3\\project 3\\.venv\\lib\\site-packages (from huggingface_hub>=0.21.0->accelerate) (2.32.4)\n",
      "Requirement already satisfied: tqdm>=4.42.1 in c:\\0. bootcamp ai\\repository\\bootcamp-ai\\project 3\\project 3\\.venv\\lib\\site-packages (from huggingface_hub>=0.21.0->accelerate) (4.67.1)\n",
      "Requirement already satisfied: typing-extensions>=3.7.4.3 in c:\\0. bootcamp ai\\repository\\bootcamp-ai\\project 3\\project 3\\.venv\\lib\\site-packages (from huggingface_hub>=0.21.0->accelerate) (4.14.0)\n",
      "Requirement already satisfied: sympy in c:\\0. bootcamp ai\\repository\\bootcamp-ai\\project 3\\project 3\\.venv\\lib\\site-packages (from torch>=2.0.0->accelerate) (1.14.0)\n",
      "Requirement already satisfied: networkx in c:\\0. bootcamp ai\\repository\\bootcamp-ai\\project 3\\project 3\\.venv\\lib\\site-packages (from torch>=2.0.0->accelerate) (3.5)\n",
      "Requirement already satisfied: jinja2 in c:\\0. bootcamp ai\\repository\\bootcamp-ai\\project 3\\project 3\\.venv\\lib\\site-packages (from torch>=2.0.0->accelerate) (3.1.6)\n",
      "Requirement already satisfied: mkl<=2021.4.0,>=2021.1.1 in c:\\0. bootcamp ai\\repository\\bootcamp-ai\\project 3\\project 3\\.venv\\lib\\site-packages (from torch>=2.0.0->accelerate) (2021.4.0)\n",
      "Requirement already satisfied: intel-openmp==2021.* in c:\\0. bootcamp ai\\repository\\bootcamp-ai\\project 3\\project 3\\.venv\\lib\\site-packages (from mkl<=2021.4.0,>=2021.1.1->torch>=2.0.0->accelerate) (2021.4.0)\n",
      "Requirement already satisfied: tbb==2021.* in c:\\0. bootcamp ai\\repository\\bootcamp-ai\\project 3\\project 3\\.venv\\lib\\site-packages (from mkl<=2021.4.0,>=2021.1.1->torch>=2.0.0->accelerate) (2021.13.1)\n",
      "Requirement already satisfied: colorama in c:\\0. bootcamp ai\\repository\\bootcamp-ai\\project 3\\project 3\\.venv\\lib\\site-packages (from tqdm>=4.42.1->huggingface_hub>=0.21.0->accelerate) (0.4.6)\n",
      "Requirement already satisfied: MarkupSafe>=2.0 in c:\\0. bootcamp ai\\repository\\bootcamp-ai\\project 3\\project 3\\.venv\\lib\\site-packages (from jinja2->torch>=2.0.0->accelerate) (3.0.2)\n",
      "Requirement already satisfied: charset_normalizer<4,>=2 in c:\\0. bootcamp ai\\repository\\bootcamp-ai\\project 3\\project 3\\.venv\\lib\\site-packages (from requests->huggingface_hub>=0.21.0->accelerate) (3.4.2)\n",
      "Requirement already satisfied: idna<4,>=2.5 in c:\\0. bootcamp ai\\repository\\bootcamp-ai\\project 3\\project 3\\.venv\\lib\\site-packages (from requests->huggingface_hub>=0.21.0->accelerate) (3.10)\n",
      "Requirement already satisfied: urllib3<3,>=1.21.1 in c:\\0. bootcamp ai\\repository\\bootcamp-ai\\project 3\\project 3\\.venv\\lib\\site-packages (from requests->huggingface_hub>=0.21.0->accelerate) (2.5.0)\n",
      "Requirement already satisfied: certifi>=2017.4.17 in c:\\0. bootcamp ai\\repository\\bootcamp-ai\\project 3\\project 3\\.venv\\lib\\site-packages (from requests->huggingface_hub>=0.21.0->accelerate) (2025.6.15)\n",
      "Requirement already satisfied: mpmath<1.4,>=1.1.0 in c:\\0. bootcamp ai\\repository\\bootcamp-ai\\project 3\\project 3\\.venv\\lib\\site-packages (from sympy->torch>=2.0.0->accelerate) (1.3.0)\n",
      "Using cached accelerate-1.8.1-py3-none-any.whl (365 kB)\n",
      "Installing collected packages: accelerate\n",
      "Successfully installed accelerate-1.8.1\n",
      "Note: you may need to restart the kernel to use updated packages.\n"
     ]
    },
    {
     "name": "stderr",
     "output_type": "stream",
     "text": [
      "\n",
      "[notice] A new release of pip is available: 24.0 -> 25.1.1\n",
      "[notice] To update, run: python.exe -m pip install --upgrade pip\n"
     ]
    }
   ],
   "source": [
    "pip install accelerate -U"
   ]
  },
  {
   "cell_type": "code",
   "execution_count": 3,
   "id": "9f7cd413",
   "metadata": {},
   "outputs": [
    {
     "name": "stdout",
     "output_type": "stream",
     "text": [
      "--- VERIFIKASI LINGKUNGAN KERJA ---\n",
      "Path Eksekusi Python: c:\\0. Bootcamp AI\\Repository\\Bootcamp-AI\\Project 3\\Project 3\\.venv\\Scripts\\python.exe\n",
      "\n",
      "Versi Transformers: 4.41.2\n",
      "Lokasi file Transformers: c:\\0. Bootcamp AI\\Repository\\Bootcamp-AI\\Project 3\\Project 3\\.venv\\Lib\\site-packages\\transformers\\__init__.py\n",
      "\n",
      "Versi PyTorch: 2.3.1+cpu\n",
      "Lokasi file PyTorch: c:\\0. Bootcamp AI\\Repository\\Bootcamp-AI\\Project 3\\Project 3\\.venv\\Lib\\site-packages\\torch\\__init__.py\n",
      "-----------------------------------\n",
      "\n",
      "ERROR LAIN: Using the `Trainer` with `PyTorch` requires `accelerate>=0.21.0`: Please run `pip install transformers[torch]` or `pip install accelerate -U`\n"
     ]
    }
   ],
   "source": [
    "# SEL VERIFIKASI UTAMA\n",
    "import sys\n",
    "import transformers\n",
    "import torch\n",
    "\n",
    "print(\"--- VERIFIKASI LINGKUNGAN KERJA ---\")\n",
    "print(\"Path Eksekusi Python:\", sys.executable)\n",
    "print(\"\\nVersi Transformers:\", transformers.__version__)\n",
    "print(\"Lokasi file Transformers:\", transformers.__file__)\n",
    "print(\"\\nVersi PyTorch:\", torch.__version__)\n",
    "print(\"Lokasi file PyTorch:\", torch.__file__)\n",
    "print(\"-----------------------------------\")\n",
    "\n",
    "# Uji coba TrainingArguments\n",
    "try:\n",
    "    from transformers import TrainingArguments\n",
    "    args = TrainingArguments(output_dir=\"./test\", evaluation_strategy=\"epoch\")\n",
    "    print(\"\\nSUKSES! TrainingArguments dengan 'evaluation_strategy' berhasil dibuat.\")\n",
    "except TypeError as e:\n",
    "    print(f\"\\nGAGAL! Masih ada error: {e}\")\n",
    "except Exception as e:\n",
    "    print(f\"\\nERROR LAIN: {e}\")"
   ]
  }
 ],
 "metadata": {
  "kernelspec": {
   "display_name": ".venv",
   "language": "python",
   "name": "python3"
  },
  "language_info": {
   "codemirror_mode": {
    "name": "ipython",
    "version": 3
   },
   "file_extension": ".py",
   "mimetype": "text/x-python",
   "name": "python",
   "nbconvert_exporter": "python",
   "pygments_lexer": "ipython3",
   "version": "3.11.9"
  }
 },
 "nbformat": 4,
 "nbformat_minor": 5
}
